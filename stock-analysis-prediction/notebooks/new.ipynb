{
 "cells": [
  {
   "cell_type": "code",
   "execution_count": null,
   "metadata": {},
   "outputs": [],
   "source": [
    "import pandas as pd \n",
    "import datetime as dt \n",
    "from pandas_datareader import data as pdr \n",
    "import matplotlib.pyplot as plt \n",
    "import plotly\n",
    "import plotly.graph_objects as go\n",
    "import seaborn as sns\n",
    "import yfinance as yf"
   ]
  },
  {
   "cell_type": "markdown",
   "metadata": {},
   "source": [
    "## Specify Date range"
   ]
  },
  {
   "cell_type": "code",
   "execution_count": null,
   "metadata": {},
   "outputs": [],
   "source": []
  },
  {
   "cell_type": "code",
   "execution_count": null,
   "metadata": {},
   "outputs": [],
   "source": []
  },
  {
   "cell_type": "code",
   "execution_count": null,
   "metadata": {},
   "outputs": [],
   "source": [
    "#Define funciton to fetch stock data\n",
    "def fetch_data(tickers, start, end, interval ='1d'):\n",
    "    df = pd.DataFrame()  # Initialize an empty DataFrame\n",
    "    for ticker in tickers:\n",
    "        try:\n",
    "            data = yf.download(ticker, start, end, interval = interval)\n",
    "            if data.empty:\n",
    "                print(f\"No data returned for {ticker}\")\n",
    "                continue  # Skip to the next ticker if no data\n",
    "\n",
    "            data.columns = [f\"{ticker}_{col}\" for col in data.columns]\n",
    "            #Concatenate data horizontally\n",
    "            df = pd.concat([df, data], axis = 1)\n",
    "            \n",
    "        except Exception as e:\n",
    "            print(f\"Could not retrieve data for {ticker}: {e}\")\n",
    "    \n",
    "    return df  # Return the DataFrame with all tickers' data\n",
    "\n",
    "\n",
    "#Define function to calculate moving averages\n",
    "def calculate_moving_averages(stock_data, short_window = 50, long_window = 200):\n",
    "\n",
    "    short_ma = stock_data.rolling(window = short_window).mean()\n",
    "    long_ma = stock_data.rolling(window = long_window).mean()\n",
    "    return short_ma, long_ma\n",
    "\n",
    "#Define functions to find dips\n",
    "def find_dips(stock_data, short_ma, threshold=-0.05):\n",
    "    deviation = (stock_data - short_ma) / short_ma\n",
    "    dips = stock_data[deviation < threshold]\n",
    "    return dips\n",
    "\n",
    "#Define function to get user input\n",
    "def get_user_input(stocklist):\n",
    "    user_input = input(\"Enter one or more ticker symbols, type 'all': \").strip()\n",
    "    if user_input.lower() == 'all':\n",
    "        return stocklist\n",
    "    else: \n",
    "        user_tickers = [ticker.strip().upper() for ticker in user_input.split(',')]\n",
    "        valid_tickers = [ticker for ticker in user_tickers if ticker in stocklist]\n",
    "\n",
    "        if not valid_tickers:\n",
    "            print(\"no valid tickers entered. Please try again.\")\n",
    "            return []\n",
    "        return valid_tickers"
   ]
  },
  {
   "cell_type": "code",
   "execution_count": null,
   "metadata": {},
   "outputs": [],
   "source": [
    "end = dt.datetime.now()\n",
    "start = dt.datetime(2019,1,1)\n",
    "start, end"
   ]
  },
  {
   "cell_type": "code",
   "execution_count": null,
   "metadata": {},
   "outputs": [],
   "source": [
    "stocklist = ['NIO', 'PYPL', 'META','TSLA', 'UBER', 'MANU', \n",
    "'NFLX', 'GC=F', 'SI=F', 'CL=F', 'ETH-USD', 'SHEL.L', 'BP', 'FRO', 'GLNG', 'TK', \n",
    "'GRAB', 'GOTO.JK', 'ZOMATO.NS', 'DHER.DE', '3690.HK', 'JMIA']\n"
   ]
  },
  {
   "cell_type": "code",
   "execution_count": null,
   "metadata": {},
   "outputs": [],
   "source": [
    "#Get user ticker (specifying parameter overrides need for input feature)\n",
    "selected = get_user_input(stocklist)"
   ]
  },
  {
   "cell_type": "code",
   "execution_count": null,
   "metadata": {},
   "outputs": [],
   "source": [
    "#Fetch stock data for selected tickers\n",
    "stock_data = fetch_data(selected, start, end)"
   ]
  },
  {
   "cell_type": "code",
   "execution_count": null,
   "metadata": {},
   "outputs": [],
   "source": [
    "ClVol = stock_data[[col for col in stock_data.columns if 'Adj Close' in col or 'Volume' in col]]\n",
    "ClVol.head()"
   ]
  },
  {
   "cell_type": "code",
   "execution_count": null,
   "metadata": {},
   "outputs": [],
   "source": [
    "ClVol = stock_data[[col for col in stock_data.columns if 'Adj Close' in col or 'Volume' in col]]\n",
    "ClVol.tail()"
   ]
  },
  {
   "cell_type": "code",
   "execution_count": null,
   "metadata": {},
   "outputs": [],
   "source": [
    "fig = go.Figure()\n",
    "\n",
    "fig.add_trace(go.Scatter(x = ClVol.index, y = ClVol, mode = 'lines' ))\n",
    "\n",
    "fig.show()"
   ]
  },
  {
   "cell_type": "code",
   "execution_count": null,
   "metadata": {},
   "outputs": [],
   "source": [
    "stock_data.head()"
   ]
  },
  {
   "cell_type": "code",
   "execution_count": null,
   "metadata": {},
   "outputs": [],
   "source": [
    "#create dataframe to house moving averages\n",
    "moving_averages = pd.DataFrame()\n",
    "\n",
    "#Loop through each ticker and add short/long term ma to the DF\n",
    "for ticker in stock_data.columns:\n",
    "    short_ma, long_ma = calculate_moving_averages(stock_data[ticker])\n",
    "    \n",
    "    moving_averages[f'{ticker}_Short_MA'] = short_ma\n",
    "    moving_averages[f'{ticker}_Long_MA'] = long_ma\n"
   ]
  },
  {
   "cell_type": "code",
   "execution_count": null,
   "metadata": {},
   "outputs": [],
   "source": [
    "import plotly.io as pio\n",
    "pio.renderers.default = 'notebook'"
   ]
  },
  {
   "cell_type": "code",
   "execution_count": null,
   "metadata": {},
   "outputs": [],
   "source": [
    "moving_averages.tail(10)"
   ]
  },
  {
   "cell_type": "code",
   "execution_count": null,
   "metadata": {},
   "outputs": [],
   "source": [
    "stock_data.info()"
   ]
  },
  {
   "cell_type": "code",
   "execution_count": null,
   "metadata": {},
   "outputs": [],
   "source": [
    "ticker.info"
   ]
  },
  {
   "cell_type": "code",
   "execution_count": null,
   "metadata": {},
   "outputs": [],
   "source": []
  },
  {
   "cell_type": "code",
   "execution_count": null,
   "metadata": {},
   "outputs": [],
   "source": []
  },
  {
   "cell_type": "code",
   "execution_count": null,
   "metadata": {},
   "outputs": [],
   "source": []
  },
  {
   "cell_type": "code",
   "execution_count": null,
   "metadata": {},
   "outputs": [],
   "source": []
  },
  {
   "cell_type": "code",
   "execution_count": null,
   "metadata": {},
   "outputs": [],
   "source": []
  },
  {
   "cell_type": "code",
   "execution_count": null,
   "metadata": {},
   "outputs": [],
   "source": []
  },
  {
   "cell_type": "code",
   "execution_count": null,
   "metadata": {},
   "outputs": [],
   "source": []
  },
  {
   "cell_type": "code",
   "execution_count": null,
   "metadata": {},
   "outputs": [],
   "source": []
  },
  {
   "cell_type": "code",
   "execution_count": null,
   "metadata": {},
   "outputs": [],
   "source": []
  },
  {
   "cell_type": "code",
   "execution_count": null,
   "metadata": {},
   "outputs": [],
   "source": [
    "stock_data = fetch_data(stocklist, start, end)"
   ]
  },
  {
   "cell_type": "code",
   "execution_count": null,
   "metadata": {},
   "outputs": [],
   "source": [
    "moving_averages = {ticker: calculate_moving_averages(stock_data[ticker]) for ticker in stock_data.columns}"
   ]
  },
  {
   "cell_type": "code",
   "execution_count": null,
   "metadata": {},
   "outputs": [],
   "source": [
    "short_ma = moving_averages['NIO'][0]  # Short-term moving average\n",
    "long_ma = moving_averages['NIO'][1] "
   ]
  },
  {
   "cell_type": "code",
   "execution_count": null,
   "metadata": {},
   "outputs": [],
   "source": [
    "# wo"
   ]
  },
  {
   "cell_type": "code",
   "execution_count": null,
   "metadata": {},
   "outputs": [],
   "source": [
    "# [stock.replace('=','').replace('.', '') for stock in stocklist]"
   ]
  },
  {
   "cell_type": "code",
   "execution_count": null,
   "metadata": {},
   "outputs": [],
   "source": [
    "# # Original list of units\n",
    "# unit_list = ['GC=F', 'SI=F', 'CL=F']\n",
    "\n",
    "# # Dictionary mapping old unit names to new names\n",
    "# unit_mapping = {\n",
    "#     'GC=F': 'GOLD',\n",
    "#     'SI=F': 'SILVER',\n",
    "#     'CL=F': 'CRUDE'\n",
    "# }\n",
    "\n",
    "# # Using list comprehension to rename units\n",
    "# stocklist = [unit_mapping.get(stock, stock) for stock in stocklist]\n",
    "\n",
    "# print(stocklist)\n"
   ]
  },
  {
   "cell_type": "code",
   "execution_count": null,
   "metadata": {},
   "outputs": [],
   "source": [
    "df.index"
   ]
  },
  {
   "cell_type": "code",
   "execution_count": null,
   "metadata": {},
   "outputs": [],
   "source": []
  },
  {
   "cell_type": "code",
   "execution_count": null,
   "metadata": {},
   "outputs": [],
   "source": []
  },
  {
   "cell_type": "code",
   "execution_count": null,
   "metadata": {},
   "outputs": [],
   "source": []
  },
  {
   "cell_type": "code",
   "execution_count": null,
   "metadata": {},
   "outputs": [],
   "source": []
  },
  {
   "cell_type": "code",
   "execution_count": null,
   "metadata": {},
   "outputs": [],
   "source": []
  },
  {
   "cell_type": "code",
   "execution_count": null,
   "metadata": {},
   "outputs": [],
   "source": []
  },
  {
   "cell_type": "code",
   "execution_count": null,
   "metadata": {},
   "outputs": [],
   "source": []
  }
 ],
 "metadata": {
  "kernelspec": {
   "display_name": "venv",
   "language": "python",
   "name": "python3"
  },
  "language_info": {
   "codemirror_mode": {
    "name": "ipython",
    "version": 3
   },
   "file_extension": ".py",
   "mimetype": "text/x-python",
   "name": "python",
   "nbconvert_exporter": "python",
   "pygments_lexer": "ipython3",
   "version": "3.11.7"
  }
 },
 "nbformat": 4,
 "nbformat_minor": 2
}
