{
 "cells": [
  {
   "cell_type": "code",
   "execution_count": null,
   "metadata": {},
   "outputs": [],
   "source": [
    "import pandas as pd \n",
    "import datetime as dt \n",
    "from pandas_datareader import data as pdr \n",
    "import matplotlib.pyplot as plt \n",
    "import plotly\n",
    "import plotly.graph_objects as go\n",
    "import seaborn as sns\n",
    "import yfinance as yf"
   ]
  },
  {
   "cell_type": "markdown",
   "metadata": {},
   "source": [
    "## Specify Date range"
   ]
  },
  {
   "cell_type": "code",
   "execution_count": null,
   "metadata": {},
   "outputs": [],
   "source": [
    "end = dt.datetime.now()\n",
    "start = dt.datetime(2019,1,1)\n",
    "start, end\n",
    "\n",
    "stocklist = ['AAPL', 'MSFT', 'AMZN', 'GOOGL', 'META', 'TSLA', 'NVDA', 'JPM', 'JNJ', 'V', 'PG', 'HD', 'UNH', 'MA']\n",
    "\n",
    "#Define funciton to fetch stock data\n",
    "def fetch_data(tickerss, start, end, interval ='1d'):\n",
    "    for ticker in tickerss:\n",
    "        try:\n",
    "            df = yf.download(ticker, start, end, interval = interval)\n",
    "            \n",
    "\n",
    "            if df.empty:\n",
    "                print(f\"No data returned for {ticker}\")\n",
    "                continue  # Skip to the next ticker if no data\n",
    "            \n",
    "            df.index = pd.to_datetime(df.index).strftime('%d-%m-%Y')\n",
    "            \n",
    "        except Exception as e:\n",
    "            print(f\"Could not retrieve data for {ticker}: {e}\")\n",
    "    \n",
    "    return df  # Return the DataFrame with all tickers' data\n",
    "\n"
   ]
  },
  {
   "cell_type": "code",
   "execution_count": null,
   "metadata": {},
   "outputs": [],
   "source": [
    "#Define function to get user input\n",
    "def get_user_input(tickerss):\n",
    "    user_input = input(\"Enter one or more ticker symbols, type 'all': \").strip()\n",
    "    if user_input.lower() == 'all':\n",
    "        return stocklist\n",
    "    else: \n",
    "        user_tickers = [ticker.strip().upper() for ticker in user_input.split(',')]\n",
    "        valid_tickers = [ticker for ticker in user_tickers if ticker in stocklist]\n",
    "\n",
    "        if not valid_tickers:\n",
    "            print(\"no valid tickers entered. Please try again.\")\n",
    "            return []\n",
    "        return valid_tickers"
   ]
  },
  {
   "cell_type": "code",
   "execution_count": null,
   "metadata": {},
   "outputs": [],
   "source": [
    "df.index = pd.to_datetime(df.index).strftime('%d-%m-%Y')\n",
    "df['Adj Close']"
   ]
  },
  {
   "cell_type": "code",
   "execution_count": null,
   "metadata": {},
   "outputs": [],
   "source": [
    "stock_data = fetch_data(stocklist, start, end)"
   ]
  },
  {
   "cell_type": "code",
   "execution_count": null,
   "metadata": {},
   "outputs": [],
   "source": [
    "stock_data.head()"
   ]
  },
  {
   "cell_type": "code",
   "execution_count": null,
   "metadata": {},
   "outputs": [],
   "source": [
    "df"
   ]
  },
  {
   "cell_type": "code",
   "execution_count": null,
   "metadata": {},
   "outputs": [],
   "source": [
    "df['Adj Close'].plot(figsize = (10,8))"
   ]
  },
  {
   "cell_type": "code",
   "execution_count": null,
   "metadata": {},
   "outputs": [],
   "source": [
    "#Get user ticker (specifying parameter overrides need for input feature)\n",
    "tickerss = get_user_input(stocklist)"
   ]
  },
  {
   "cell_type": "code",
   "execution_count": null,
   "metadata": {},
   "outputs": [],
   "source": [
    "#Fetch stock data for selected tickers\n"
   ]
  },
  {
   "cell_type": "code",
   "execution_count": null,
   "metadata": {},
   "outputs": [],
   "source": [
    "# stocklist = ['NIO', 'PYPL', 'META','TSLA', 'UBER', 'MANU', \n",
    "# 'NFLX', 'GC=F', 'SI=F', 'CL=F', 'ETH-USD', 'SHEL.L', 'BP', 'FRO', 'GLNG', 'TK', \n",
    "# 'GRAB', 'GOTO.JK', 'ZOMATO.NS', 'DHER.DE', '3690.HK', 'JMIA']\n"
   ]
  },
  {
   "cell_type": "code",
   "execution_count": null,
   "metadata": {},
   "outputs": [],
   "source": [
    "#Calculate moving averages for trend detection\n",
    "#Define function to calculate moving averages\n",
    "def calculate_moving_averages(stock_data, short_window = 50, long_window = 200):\n",
    "\n",
    "    short_ma = stock_data.rolling(window = short_window).mean()\n",
    "    long_ma = stock_data.rolling(window = long_window).mean()\n",
    "    return short_ma, long_ma\n",
    "\n",
    "#create dataframe to house moving averages\n",
    "moving_averages = pd.DataFrame()\n",
    "bollinger = pd.DataFrame()\n"
   ]
  },
  {
   "cell_type": "code",
   "execution_count": null,
   "metadata": {},
   "outputs": [],
   "source": [
    "#Calculate Bollinger Bands for volatility and prive level evaluation\n",
    "\n",
    "def calculate_bollinger_bands(stock_data, window = 20, num_sd = 2):\n",
    "\n",
    "    rolling_mean = stock_data.rolling(window = window).mean()\n",
    "    rolling_std = stock_data.rolling(window = window).std()\n",
    "    upper_band = rolling_mean + (rolling_std * num_sd)\n",
    "    lower_band = rolling_mean - (rolling_std * num_sd)\n",
    "    return upper_band, lower_band\n",
    "\n",
    "\n",
    "#Loop through each ticker and add short/long term ma to the DF\n",
    "for ticker in stock_data.columns:\n",
    "    if f\"{ticker}_Adj Close\" in stock_data.columns:  # Ensure adjusted close exists\n",
    "        short_ma, long_ma = calculate_moving_averages(stock_data[f'{ticker}_Adj Close'])\n",
    "        moving_averages[f'{ticker}_Short_MA'] = short_ma\n",
    "        moving_averages[f'{ticker}_Long_MA'] = long_ma\n",
    "        \n",
    "        upper_band, lower_band = calculate_bollinger_bands(stock_data[ticker])\n",
    "        bollinger[f'{ticker}_Up'] = upper_band\n",
    "        bollinger[f'{ticker}_Low'] = lower_band"
   ]
  },
  {
   "cell_type": "code",
   "execution_count": null,
   "metadata": {},
   "outputs": [],
   "source": [
    "import plotly.graph_objects as go\n",
    "\n",
    "def plot_trend_with_indicators(stock_data, moving_averages, bollinger, ticker):\n",
    "    fig = go.Figure()\n",
    "    \n",
    "    # Stock price (using the specified ticker)\n",
    "    fig.add_trace(go.Scatter(x=stock_data.index, y=stock_data[f'{ticker}_Adj Close'], mode='lines', name=f'{ticker} Price'))\n",
    "    \n",
    "    # Short-term moving average\n",
    "    fig.add_trace(go.Scatter(x=moving_averages.index, y=moving_averages[f'{ticker}_Short_MA'], mode='lines', name='Short-term MA (50 days)', line=dict(dash='dash')))\n",
    "    \n",
    "    # Long-term moving average\n",
    "    fig.add_trace(go.Scatter(x=moving_averages.index, y=moving_averages[f'{ticker}_Long_MA'], mode='lines', name='Long-term MA (200 days)', line=dict(dash='dot')))\n",
    "    \n",
    "    # Bollinger Bands\n",
    "    fig.add_trace(go.Scatter(x=bollinger.index, y=bollinger[f'{ticker}_Upper_Band'], mode='lines', name='Upper Band', line=dict(color='red', dash='dash')))\n",
    "    fig.add_trace(go.Scatter(x=bollinger.index, y=bollinger[f'{ticker}_Lower_Band'], mode='lines', name='Lower Band', line=dict(color='green', dash='dash')))\n",
    "    \n",
    "\n",
    "    \n",
    "    # Volume (if it exists in stock_data)\n",
    "    volume_column = f'{ticker}_Volume'\n",
    "    if volume_column in stock_data.columns:\n",
    "        fig.add_trace(go.Bar(x=stock_data.index, y=stock_data[volume_column], name=f'{ticker} Volume', yaxis='y2', opacity=0.4))\n",
    "\n",
    "    # Update layout to show two y-axes (one for price, one for volume)\n",
    "    fig.update_layout(\n",
    "        title=f'{ticker} Trend Analysis with Indicators',\n",
    "        xaxis_title='Date',\n",
    "        yaxis_title='Price',\n",
    "        yaxis2=dict(title='Volume', overlaying='y', side='right', showgrid=False),\n",
    "        legend=dict(x=0, y=1.1)\n",
    "    )\n",
    "    \n",
    "    fig.show()\n",
    "\n",
    "\n",
    "\n",
    "for ticker in selected:\n",
    "    if f\"{ticker}_Adj Close\" in stock_data.columns:\n",
    "        plot_trend_with_indicators(stock_data, moving_averages, bollinger, ticker)\n",
    "    else: \n",
    "        print(f\"No data available for {ticker}.\")"
   ]
  },
  {
   "cell_type": "code",
   "execution_count": null,
   "metadata": {},
   "outputs": [],
   "source": [
    "# #Calculate RSI to assess overbought or oversold conditions\n",
    "# def calculate_rsi(stock_data, window=14):\n",
    "#     \"\"\"\n",
    "#     Calculate the Relative Strength Index (RSI).\n",
    "#     \"\"\"\n",
    "#     delta = stock_data.diff()\n",
    "#     gain = (delta.where(delta > 0, 0)).rolling(window=window).mean()\n",
    "#     loss = (-delta.where(delta < 0, 0)).rolling(window=window).mean()\n",
    "#     rs = gain / loss\n",
    "#     rsi = 100 - (100 / (1 + rs))\n",
    "#     return rsi\n",
    "\n",
    "# # Calculate RSI for each stock\n",
    "# rsi_values = {ticker: calculate_rsi(data[ticker]) for ticker in top_15_tickers}\n"
   ]
  },
  {
   "cell_type": "code",
   "execution_count": null,
   "metadata": {},
   "outputs": [],
   "source": [
    "#Identify price dips below moving averages and bollinger\n",
    "#Define functions to find dips\n",
    "def find_dips(stock_data, short_ma, threshold=-0.05):\n",
    "    deviation = (stock_data - short_ma) / short_ma\n",
    "    dips = stock_data[deviation < threshold]\n",
    "    return dips"
   ]
  },
  {
   "cell_type": "code",
   "execution_count": null,
   "metadata": {},
   "outputs": [],
   "source": [
    "fig = go.Figure()\n",
    "\n",
    "fig.add_trace(go.Scatter(x = stock_data.index, y = stock_data['META_Adj Close'], mode = 'lines' ))\n",
    "fig.update_layout(title=f'{ticker} Trend Analysis with Indicators', xaxis_title='Date', yaxis_title='Price')\n",
    "\n",
    "fig.show()"
   ]
  },
  {
   "cell_type": "code",
   "execution_count": null,
   "metadata": {},
   "outputs": [],
   "source": [
    "fig1 = go.Figure()\n",
    "\n",
    "fig1.add_trace(go.Scatter(x=short_ma.index, y=short_ma, mode='lines', name='Short-term MA (50 days)', line=dict(dash='dash')))\n",
    "\n",
    "fig1.show()"
   ]
  },
  {
   "cell_type": "code",
   "execution_count": null,
   "metadata": {},
   "outputs": [],
   "source": [
    "# Bollinger Bands\n",
    "fig2 = go.Figure()\n",
    "\n",
    "fig2.add_trace(go.Scatter(x=upper_band.index, y=upper_band, mode='lines', name='Upper Band', line=dict(color='red', dash='dash')))\n",
    "fig2.add_trace(go.Scatter(x=lower_band.index, y=lower_band, mode='lines', name='Lower Band', line=dict(color='green', dash='dash')))\n",
    "\n",
    "fig2.show()"
   ]
  },
  {
   "cell_type": "code",
   "execution_count": null,
   "metadata": {},
   "outputs": [],
   "source": []
  },
  {
   "cell_type": "code",
   "execution_count": null,
   "metadata": {},
   "outputs": [],
   "source": [
    "# # Original list of units\n",
    "# unit_list = ['GC=F', 'SI=F', 'CL=F']\n",
    "\n",
    "# # Dictionary mapping old unit names to new names\n",
    "# unit_mapping = {\n",
    "#     'GC=F': 'GOLD',\n",
    "#     'SI=F': 'SILVER',\n",
    "#     'CL=F': 'CRUDE'\n",
    "# }\n",
    "\n",
    "# # Using list comprehension to rename units\n",
    "# stocklist = [unit_mapping.get(stock, stock) for stock in stocklist]\n",
    "\n",
    "# print(stocklist)\n"
   ]
  },
  {
   "cell_type": "code",
   "execution_count": null,
   "metadata": {},
   "outputs": [],
   "source": []
  },
  {
   "cell_type": "code",
   "execution_count": null,
   "metadata": {},
   "outputs": [],
   "source": [
    "# ClVol = stock_data[[col for col in stock_data.columns if 'Adj Close' in col or 'Volume' in col]]\n",
    "# ClVol.head()"
   ]
  },
  {
   "cell_type": "code",
   "execution_count": null,
   "metadata": {},
   "outputs": [],
   "source": [
    "# ClVol = stock_data[[col for col in stock_data.columns if 'Adj Close' in col or 'Volume' in col]]\n",
    "# ClVol.tail(15)"
   ]
  },
  {
   "cell_type": "code",
   "execution_count": null,
   "metadata": {},
   "outputs": [],
   "source": []
  },
  {
   "cell_type": "code",
   "execution_count": null,
   "metadata": {},
   "outputs": [],
   "source": []
  },
  {
   "cell_type": "code",
   "execution_count": null,
   "metadata": {},
   "outputs": [],
   "source": []
  },
  {
   "cell_type": "code",
   "execution_count": null,
   "metadata": {},
   "outputs": [],
   "source": []
  },
  {
   "cell_type": "code",
   "execution_count": null,
   "metadata": {},
   "outputs": [],
   "source": []
  },
  {
   "cell_type": "code",
   "execution_count": null,
   "metadata": {},
   "outputs": [],
   "source": []
  }
 ],
 "metadata": {
  "kernelspec": {
   "display_name": "venv",
   "language": "python",
   "name": "python3"
  },
  "language_info": {
   "codemirror_mode": {
    "name": "ipython",
    "version": 3
   },
   "file_extension": ".py",
   "mimetype": "text/x-python",
   "name": "python",
   "nbconvert_exporter": "python",
   "pygments_lexer": "ipython3",
   "version": "3.11.7"
  }
 },
 "nbformat": 4,
 "nbformat_minor": 2
}
